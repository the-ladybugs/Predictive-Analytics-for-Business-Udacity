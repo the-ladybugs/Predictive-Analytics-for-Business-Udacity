##Step 1: Understanding the Model 
Answer the following questions:
According to the linear model provided, if a diamond is 1 carat heavier than another with the same cut and clarity, how much more should we expect to pay? Why?
A diamond that is 1 carat heavier will result in an additional price of 8413$. The regression formula given for the dataset determined a coefficient of 8413 for the carat. The price will increase according to this coefficient.  

If you were interested in a 1.5 carat diamond with a Very Good cut (represented by a 3 in the model) and a VS2 clarity rating (represented by a 5 in the model), how much would the model predict you should pay for it?
The formula to determine the price is : 
Price = -5,269 + 8,413 x Carat + 158.1 x Cut + 454 x Clarity
By putting the given values, we arrive to a predicted price:
	Price = -5,269 + 8,413 x 1.5 + 158.1 x 3 + 454 x 5
	Price = 10094.8 $
